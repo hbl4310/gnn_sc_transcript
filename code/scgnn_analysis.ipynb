{
 "cells": [
  {
   "cell_type": "code",
   "execution_count": 1,
   "metadata": {},
   "outputs": [
    {
     "name": "stdout",
     "output_type": "stream",
     "text": [
      "scanpy==1.8.2 anndata==0.8.0 umap==0.5.2 numpy==1.21.5 scipy==1.8.0 pandas==1.3.5 scikit-learn==1.0.2 statsmodels==0.13.2 python-igraph==0.9.9 pynndescent==0.5.6\n"
     ]
    }
   ],
   "source": [
    "import torch\n",
    "from torch.utils.data import DataLoader\n",
    "import numpy as np \n",
    "\n",
    "import scgnn\n",
    "from analysis import simulate_dropout, similarity_metrics"
   ]
  },
  {
   "cell_type": "code",
   "execution_count": 2,
   "metadata": {},
   "outputs": [
    {
     "name": "stdout",
     "output_type": "stream",
     "text": [
      "WARNING: In Scanpy 0.*, this returned logarithmized data. Now it returns non-logarithmized data.\n"
     ]
    },
    {
     "name": "stderr",
     "output_type": "stream",
     "text": [
      "/home/hbl/.local/lib/python3.8/site-packages/anndata/compat/_overloaded_dict.py:106: ImplicitModificationWarning: Trying to modify attribute `._uns` of view, initializing view as actual.\n",
      "  self.data[key] = value\n",
      "/usr/lib/python3.8/contextlib.py:120: FutureWarning: X.dtype being converted to np.float32 from float64. In the next version of anndata (0.9) conversion will not be automatic. Pass dtype explicitly to avoid this warning. Pass `AnnData(X, dtype=X.dtype, ...)` to get the future behavour.\n",
      "  next(self.gen)\n"
     ]
    },
    {
     "name": "stdout",
     "output_type": "stream",
     "text": [
      "normalizing counts per cell\n",
      "    finished (0:00:00)\n",
      "If you pass `n_top_genes`, all cutoffs are ignored.\n",
      "extracting highly variable genes\n",
      "    finished (0:00:00)\n",
      "--> added\n",
      "    'highly_variable', boolean vector (adata.var)\n",
      "    'means', float vector (adata.var)\n",
      "    'dispersions', float vector (adata.var)\n",
      "    'dispersions_norm', float vector (adata.var)\n"
     ]
    },
    {
     "name": "stderr",
     "output_type": "stream",
     "text": [
      "/mnt/c/Users/han13/OneDrive/Documents/MPhil ACS/L45 Representation Learning on Graphs and Networks/project/code/data.py:132: ImplicitModificationWarning: Trying to modify attribute `.obs` of view, initializing view as actual.\n",
      "  adata.obs['paul15_clusters_ind'] = adata.obs.paul15_clusters.replace(cats.to_list(), range(len(cats)))\n"
     ]
    }
   ],
   "source": [
    "import data\n",
    "n_genes = 400\n",
    "adata = data.preprocess_paul15(data.get_paul15(), n_top_genes=n_genes)\n",
    "\n",
    "target_col_categories = 'paul15_clusters'\n",
    "target_col = 'paul15_clusters_ind'"
   ]
  },
  {
   "cell_type": "code",
   "execution_count": 3,
   "metadata": {},
   "outputs": [],
   "source": [
    "scdata = scgnn.scDataset(adata)\n",
    "batch_size = adata.X.shape[0]\n",
    "\n",
    "device = torch.device('cuda' if torch.cuda.is_available() else 'cpu')\n",
    "kwargs = {'num_workers': 1, 'pin_memory': True} if device=='cuda' else {}\n",
    "\n",
    "train_loader = DataLoader(\n",
    "    scdata, batch_size=batch_size, shuffle=False, **kwargs)"
   ]
  },
  {
   "cell_type": "code",
   "execution_count": 4,
   "metadata": {},
   "outputs": [
    {
     "name": "stdout",
     "output_type": "stream",
     "text": [
      "====> Epoch: 0 Average loss: 42.0421\n",
      "====> Epoch: 100 Average loss: 31.1520\n",
      "====> Epoch: 200 Average loss: 31.0130\n",
      "====> Epoch: 300 Average loss: 30.9837\n",
      "====> Epoch: 400 Average loss: 30.8640\n",
      "====> Epoch: 500 Average loss: 30.8890\n",
      "====> Epoch: 600 Average loss: 30.8487\n",
      "====> Epoch: 700 Average loss: 30.8283\n",
      "====> Epoch: 800 Average loss: 30.7982\n",
      "====> Epoch: 900 Average loss: 30.7230\n",
      "====> Epoch: 1000 Average loss: 30.6988\n",
      "====> Epoch: 1100 Average loss: 30.6764\n",
      "====> Epoch: 1200 Average loss: 30.6822\n",
      "====> Epoch: 1300 Average loss: 30.6301\n",
      "====> Epoch: 1400 Average loss: 30.6369\n",
      "====> Epoch: 1500 Average loss: 30.6366\n",
      "====> Epoch: 1600 Average loss: 30.6258\n",
      "====> Epoch: 1700 Average loss: 30.6214\n",
      "====> Epoch: 1800 Average loss: 30.6083\n",
      "====> Epoch: 1900 Average loss: 30.5992\n",
      "====> Epoch: 2000 Average loss: 30.6023\n"
     ]
    }
   ],
   "source": [
    "input_dim = adata.X.shape[1]\n",
    "NUM_EPOCHS = 2001\n",
    "\n",
    "# model = scgnn.AE(input_dim).to(device)\n",
    "model = scgnn.VAE(input_dim).to(device)\n",
    "for epoch in range(NUM_EPOCHS): \n",
    "    recon, original, z = scgnn.train(model, epoch, train_loader, device=device)"
   ]
  },
  {
   "cell_type": "code",
   "execution_count": 5,
   "metadata": {},
   "outputs": [],
   "source": [
    "target_X = torch.tensor(scdata.features)\n",
    "\n",
    "ps = [0.0, 0.1, 0.2, 0.3, 0.4, 0.5]\n",
    "metrics = []\n",
    "for p in ps: \n",
    "    sim_X = simulate_dropout(target_X, p)\n",
    "    if type(model).__name__ == 'VAE':\n",
    "        recon_X, mu, logvar, z = model(sim_X.to(device))\n",
    "    else:\n",
    "        recon_X, z = model(sim_X.to(device))\n",
    "    metrics.append(similarity_metrics(target_X, sim_X))"
   ]
  },
  {
   "cell_type": "code",
   "execution_count": 14,
   "metadata": {},
   "outputs": [
    {
     "data": {
      "text/plain": [
       "[0.4483351707458496,\n",
       " 0.4039296507835388,\n",
       " 0.35897237062454224,\n",
       " 0.31398749351501465,\n",
       " 0.26951029896736145,\n",
       " 0.22396092116832733]"
      ]
     },
     "execution_count": 14,
     "metadata": {},
     "output_type": "execute_result"
    }
   ],
   "source": [
    "[i['l1_median'] for i in metrics]"
   ]
  },
  {
   "cell_type": "code",
   "execution_count": 7,
   "metadata": {},
   "outputs": [
    {
     "name": "stdout",
     "output_type": "stream",
     "text": [
      "Start pruning 0th cell, cost 2.5987625122070312e-05s\n"
     ]
    },
    {
     "name": "stderr",
     "output_type": "stream",
     "text": [
      "/tmp/ipykernel_9148/1692572443.py:13: FutureWarning: adjacency_matrix will return a scipy.sparse array instead of a matrix in Networkx 3.0.\n",
      "  adj = scgnn.nx.adjacency_matrix(scgnn.nx.from_dict_of_lists(graphdict)).astype(np.float32)\n"
     ]
    }
   ],
   "source": [
    "# we have trained an unsupervised graph adjacency generator; generate an adjacency and see if downstream tasks perform \n",
    "prunetype = 'KNNgraphStatsSingleThread'\n",
    "knn_distance = 'euclidean'\n",
    "k = 10\n",
    "useGAEembedding = False\n",
    "useBothembedding = False\n",
    "\n",
    "zOut = z.detach().cpu().numpy()\n",
    "\n",
    "edgeList = scgnn.calculateKNNgraphDistanceMatrixStatsSingleThread(zOut, distanceType=knn_distance, k=k)\n",
    "\n",
    "graphdict = scgnn.edgeList2edgeDict(edgeList, zOut.shape[0])\n",
    "adj = scgnn.nx.adjacency_matrix(scgnn.nx.from_dict_of_lists(graphdict)).astype(np.float32)"
   ]
  },
  {
   "cell_type": "code",
   "execution_count": 8,
   "metadata": {},
   "outputs": [
    {
     "data": {
      "text/plain": [
       "torch.Size([2730, 400])"
      ]
     },
     "execution_count": 8,
     "metadata": {},
     "output_type": "execute_result"
    }
   ],
   "source": [
    "recon.shape"
   ]
  },
  {
   "cell_type": "code",
   "execution_count": 9,
   "metadata": {},
   "outputs": [
    {
     "data": {
      "text/plain": [
       "torch.Size([2730, 400])"
      ]
     },
     "execution_count": 9,
     "metadata": {},
     "output_type": "execute_result"
    }
   ],
   "source": [
    "original.shape"
   ]
  },
  {
   "cell_type": "code",
   "execution_count": 10,
   "metadata": {},
   "outputs": [
    {
     "ename": "NameError",
     "evalue": "name 'sc' is not defined",
     "output_type": "error",
     "traceback": [
      "\u001b[0;31m---------------------------------------------------------------------------\u001b[0m",
      "\u001b[0;31mNameError\u001b[0m                                 Traceback (most recent call last)",
      "\u001b[1;32m/mnt/c/Users/han13/OneDrive/Documents/MPhil ACS/L45 Representation Learning on Graphs and Networks/project/code/scgnn_analysis.ipynb Cell 11'\u001b[0m in \u001b[0;36m<cell line: 1>\u001b[0;34m()\u001b[0m\n\u001b[0;32m----> <a href='vscode-notebook-cell://wsl%2Bubuntu/mnt/c/Users/han13/OneDrive/Documents/MPhil%20ACS/L45%20Representation%20Learning%20on%20Graphs%20and%20Networks/project/code/scgnn_analysis.ipynb#ch0000005vscode-remote?line=0'>1</a>\u001b[0m adata_mod \u001b[39m=\u001b[39m sc\u001b[39m.\u001b[39mtl\u001b[39m.\u001b[39mleiden(adata, adjacency\u001b[39m=\u001b[39madj, copy\u001b[39m=\u001b[39m\u001b[39mTrue\u001b[39;00m)\n\u001b[1;32m      <a href='vscode-notebook-cell://wsl%2Bubuntu/mnt/c/Users/han13/OneDrive/Documents/MPhil%20ACS/L45%20Representation%20Learning%20on%20Graphs%20and%20Networks/project/code/scgnn_analysis.ipynb#ch0000005vscode-remote?line=1'>2</a>\u001b[0m plt\u001b[39m.\u001b[39mhist(adata_mod\u001b[39m.\u001b[39mobs\u001b[39m.\u001b[39mleiden\u001b[39m.\u001b[39mvalues)\n",
      "\u001b[0;31mNameError\u001b[0m: name 'sc' is not defined"
     ]
    }
   ],
   "source": [
    "adata_mod = sc.tl.leiden(adata, adjacency=adj, copy=True)\n",
    "plt.hist(adata_mod.obs.leiden.values)\n",
    "# plt.hist(adata.obs.leiden.values)"
   ]
  },
  {
   "cell_type": "code",
   "execution_count": null,
   "metadata": {},
   "outputs": [],
   "source": [
    "model = scgnn.VAE(input_dim)\n",
    "for epoch in range(NUM_EPOCHS): \n",
    "    recon, mu, logvar, z = scgnn.train(model, epoch, train_loader, log_interval=10)"
   ]
  },
  {
   "cell_type": "code",
   "execution_count": null,
   "metadata": {},
   "outputs": [],
   "source": [
    "zOut = z.detach().cpu().numpy()\n",
    "edgeList = scgnn.calculateKNNgraphDistanceMatrixStatsSingleThread(zOut, distanceType=knn_distance, k=k)\n",
    "graphdict = scgnn.edgeList2edgeDict(edgeList, zOut.shape[0])\n",
    "adj = scgnn.nx.adjacency_matrix(scgnn.nx.from_dict_of_lists(graphdict)).astype(np.float32)\n",
    "\n",
    "n_train = 1800 \n",
    "x_train, x_test, y_train, y_test = svm.split_data_cellclass(adata_mod, n_train)\n",
    "clf = svm.svm_cellclass(x_train, y_train, x_test, y_test, kernel='linear')"
   ]
  }
 ],
 "metadata": {
  "interpreter": {
   "hash": "6d3f25f50ad88956d398913e97b40fffc9ca8f39f71827a47454d9fcf11ba9dc"
  },
  "kernelspec": {
   "display_name": "Python 3.7.12 64-bit ('3.7.12')",
   "language": "python",
   "name": "python3"
  },
  "language_info": {
   "codemirror_mode": {
    "name": "ipython",
    "version": 3
   },
   "file_extension": ".py",
   "mimetype": "text/x-python",
   "name": "python",
   "nbconvert_exporter": "python",
   "pygments_lexer": "ipython3",
   "version": "3.8.10"
  },
  "orig_nbformat": 4
 },
 "nbformat": 4,
 "nbformat_minor": 2
}
