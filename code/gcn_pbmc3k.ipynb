{
 "cells": [
  {
   "cell_type": "code",
   "execution_count": 1,
   "metadata": {},
   "outputs": [
    {
     "name": "stdout",
     "output_type": "stream",
     "text": [
      "scanpy==1.8.2 anndata==0.8.0 umap==0.5.2 numpy==1.21.5 scipy==1.8.0 pandas==1.3.5 scikit-learn==1.0.2 statsmodels==0.13.2 python-igraph==0.9.9 pynndescent==0.5.6\n"
     ]
    }
   ],
   "source": [
    "import torch \n",
    "import torch.nn as nn \n",
    "\n",
    "import gnn\n",
    "import data \n",
    "data.sc.settings.verbosity = 0\n",
    "import utils\n",
    "\n",
    "device = torch.device('cuda' if torch.cuda.is_available() else 'cpu')"
   ]
  },
  {
   "cell_type": "code",
   "execution_count": 3,
   "metadata": {},
   "outputs": [
    {
     "data": {
      "text/plain": [
       "AnnData object with n_obs × n_vars = 2638 × 1838\n",
       "    obs: 'n_genes', 'percent_mito', 'n_counts', 'louvain', 'louvain_ind'\n",
       "    var: 'n_cells'\n",
       "    uns: 'draw_graph', 'louvain', 'louvain_colors', 'neighbors', 'pca', 'rank_genes_groups'\n",
       "    obsm: 'X_pca', 'X_tsne', 'X_umap', 'X_draw_graph_fr'\n",
       "    varm: 'PCs'\n",
       "    obsp: 'distances', 'connectivities'"
      ]
     },
     "execution_count": 3,
     "metadata": {},
     "output_type": "execute_result"
    }
   ],
   "source": [
    "adata = data.preprocess_pbmc3k_preprocessed(data.get_pbmc3k_preprocessed())\n",
    "target_col_categories = 'louvain'\n",
    "target_col = 'louvain_ind'\n",
    "\n",
    "n_train_perc = 0.7\n",
    "n_train = int(n_train_perc * adata.X.shape[0])\n",
    "\n",
    "adata"
   ]
  },
  {
   "cell_type": "markdown",
   "metadata": {},
   "source": [
    "baselines"
   ]
  },
  {
   "cell_type": "code",
   "execution_count": 4,
   "metadata": {},
   "outputs": [
    {
     "name": "stdout",
     "output_type": "stream",
     "text": [
      "SVM test accuracy: 94.1919191919192\n",
      "MLP-1 accuracy: 89.52020263671875\n",
      "MLP-2 accuracy: 88.76262664794922\n",
      "MLP-3 accuracy: 87.1212158203125\n"
     ]
    }
   ],
   "source": [
    "# SVM baseline \n",
    "import svm \n",
    "x_train, x_test, y_train, y_test = svm.split_data_cellclass(adata, n_train, target_col=target_col)\n",
    "clf = svm.svm_cellclass(x_train, y_train, x_test, y_test, kernel='linear')\n",
    "# MLP baseline \n",
    "import mlp \n",
    "NUM_EPOCHS = 1000\n",
    "LR = 0.001 \n",
    "x = torch.tensor(adata.X)\n",
    "y = data.target2onehot(adata, target_col=target_col)\n",
    "input_dim = x.shape[1]\n",
    "output_dim = data.num_categories(adata, target_col=target_col_categories)\n",
    "hidden_dim = 64\n",
    "x_train, y_train = x[:n_train], y[:n_train]\n",
    "x_test, y_test = x[n_train:], y[n_train:]\n",
    "\n",
    "for layers in [\n",
    "    [(input_dim, output_dim, hidden_dim),], \n",
    "    [(input_dim, hidden_dim, hidden_dim),(hidden_dim, output_dim, hidden_dim),], \n",
    "    [(input_dim, hidden_dim, hidden_dim),(hidden_dim, hidden_dim, hidden_dim),(hidden_dim, output_dim, hidden_dim),], \n",
    "]: \n",
    "    model = nn.Sequential(*[mlp.SimpleMLP(a,b,c) for a,b,c in layers])\n",
    "    losses = mlp.train(model, x_train, y_train, lr=LR, num_epochs=NUM_EPOCHS)\n",
    "    print(f'MLP-{len(layers)}', end=' ')\n",
    "    test_acc = mlp.eval(model, x_test, y_test)\n"
   ]
  },
  {
   "cell_type": "markdown",
   "metadata": {},
   "source": [
    "edge index"
   ]
  },
  {
   "cell_type": "code",
   "execution_count": 5,
   "metadata": {},
   "outputs": [
    {
     "data": {
      "text/plain": [
       "AnnData object with n_obs × n_vars = 2638 × 1838\n",
       "    obs: 'n_genes', 'percent_mito', 'n_counts', 'louvain', 'louvain_ind'\n",
       "    var: 'n_cells'\n",
       "    uns: 'draw_graph', 'louvain', 'louvain_colors', 'neighbors', 'pca', 'rank_genes_groups'\n",
       "    obsm: 'X_pca', 'X_tsne', 'X_umap', 'X_draw_graph_fr'\n",
       "    varm: 'PCs'\n",
       "    obsp: 'distances', 'connectivities'"
      ]
     },
     "execution_count": 5,
     "metadata": {},
     "output_type": "execute_result"
    }
   ],
   "source": [
    "adata"
   ]
  },
  {
   "cell_type": "code",
   "execution_count": 6,
   "metadata": {},
   "outputs": [],
   "source": [
    "adata = data.preprocess_leiden(adata, n_neighbors=30)\n",
    "edge_index = data.connectivities2edge_index(adata)\n",
    "\n",
    "edge_index.shape[1] / adata.X.shape[1]**2\n",
    "edge_index = edge_index.to(device)"
   ]
  },
  {
   "cell_type": "code",
   "execution_count": 7,
   "metadata": {},
   "outputs": [],
   "source": [
    "x = torch.tensor(adata.X).to(device)\n",
    "y = data.target2onehot(adata, target_col=target_col).to(device)"
   ]
  },
  {
   "cell_type": "code",
   "execution_count": 8,
   "metadata": {},
   "outputs": [],
   "source": [
    "from gnn import GNN_DGN_wrapper \n",
    "\n",
    "RUNS = 3\n",
    "NUM_EPOCHS = 2001\n",
    "LR = 0.001\n",
    "\n",
    "models = [\n",
    "    gnn.GNN('GCN', input_dim, output_dim, num_layers=1, hidden_dim=64), \n",
    "    gnn.GNN('GCN', input_dim, output_dim, num_layers=2, hidden_dim=64), \n",
    "    gnn.GNN('GCN', input_dim, output_dim, num_layers=4, hidden_dim=64), \n",
    "    GNN_DGN_wrapper(\n",
    "        gnn.GNN('GCN', input_dim, 64, num_layers=1, hidden_dim=64), \n",
    "        output_dim, k=10, hidden_dim=64\n",
    "    ), \n",
    "    GNN_DGN_wrapper(\n",
    "        gnn.GNN('GCN', input_dim, 64, num_layers=2, hidden_dim=64), \n",
    "        output_dim, k=10, hidden_dim=64\n",
    "    ), \n",
    "    GNN_DGN_wrapper(\n",
    "        gnn.GNN('GCN', input_dim, 64, num_layers=4, hidden_dim=64), \n",
    "        output_dim, k=10, hidden_dim=64\n",
    "    )\n",
    "\n",
    "]"
   ]
  },
  {
   "cell_type": "code",
   "execution_count": 9,
   "metadata": {},
   "outputs": [
    {
     "name": "stdout",
     "output_type": "stream",
     "text": [
      "[EPOCH 0] train loss: 2.094449996948242\n",
      "[EPOCH 1000] train loss: 1.2794954776763916\n",
      "[EPOCH 2000] train loss: 1.2784538269042969\n",
      "[EPOCH 0] train loss: 2.0805649757385254\n",
      "[EPOCH 1000] train loss: 1.283355951309204\n",
      "[EPOCH 2000] train loss: 1.2832362651824951\n",
      "[EPOCH 0] train loss: 2.081427574157715\n",
      "[EPOCH 1000] train loss: 1.2935792207717896\n",
      "[EPOCH 2000] train loss: 1.2974096536636353\n",
      "[EPOCH 0] train loss: 2.0764737129211426\n",
      "[EPOCH 1000] train loss: 1.2866332530975342\n",
      "[EPOCH 2000] train loss: 1.279139757156372\n",
      "[EPOCH 0] train loss: 2.0771775245666504\n",
      "[EPOCH 1000] train loss: 1.29063081741333\n",
      "[EPOCH 2000] train loss: 1.281067967414856\n",
      "[EPOCH 0] train loss: 2.0782394409179688\n",
      "[EPOCH 1000] train loss: 1.2989500761032104\n",
      "[EPOCH 2000] train loss: 1.290362000465393\n"
     ]
    }
   ],
   "source": [
    "objs = []\n",
    "for model in models: \n",
    "    model = model.to(device)\n",
    "    obj = gnn.train(model, x, edge_index, y, n_train, lr=LR, num_epochs=NUM_EPOCHS, log_interval=1000)\n",
    "    objs.append(obj)\n",
    "    torch.cuda.empty_cache()"
   ]
  },
  {
   "cell_type": "code",
   "execution_count": 19,
   "metadata": {},
   "outputs": [
    {
     "name": "stdout",
     "output_type": "stream",
     "text": [
      "tensor(96.0859) tensor(96.0859) tensor(95.2020)\n"
     ]
    }
   ],
   "source": [
    "print(\n",
    "    torch.tensor(objs[0]['test_accs']).max(), \n",
    "    torch.tensor(objs[1]['test_accs']).max(), \n",
    "    torch.tensor(objs[2]['test_accs']).max(), \n",
    ")"
   ]
  },
  {
   "cell_type": "code",
   "execution_count": 11,
   "metadata": {},
   "outputs": [
    {
     "name": "stdout",
     "output_type": "stream",
     "text": [
      "tensor(96.0859) 95.32828330993652\n",
      "tensor(96.4646) 95.58081030845642\n",
      "tensor(96.0859) 95.45454382896423\n",
      "tensor(95.8333) 87.62626051902771\n",
      "tensor(96.4646) 94.57070827484131\n",
      "tensor(96.3384) 95.20202279090881\n"
     ]
    }
   ],
   "source": [
    "for obj in objs: \n",
    "    print(torch.tensor(obj['test_accs']).max(), obj['test_accs'][-1])"
   ]
  },
  {
   "cell_type": "code",
   "execution_count": null,
   "metadata": {},
   "outputs": [
    {
     "name": "stdout",
     "output_type": "stream",
     "text": [
      "95.58081030845642 95.58081030845642 95.20202279090881\n"
     ]
    }
   ],
   "source": [
    "print(\n",
    "    objs[0]['test_accs'][-1], \n",
    "    objs[1]['test_accs'][-1], \n",
    "    objs[2]['test_accs'][-1], \n",
    ")"
   ]
  },
  {
   "cell_type": "code",
   "execution_count": null,
   "metadata": {},
   "outputs": [],
   "source": []
  }
 ],
 "metadata": {
  "interpreter": {
   "hash": "6d3f25f50ad88956d398913e97b40fffc9ca8f39f71827a47454d9fcf11ba9dc"
  },
  "kernelspec": {
   "display_name": "Python 3.7.12 64-bit ('3.7.12')",
   "language": "python",
   "name": "python3"
  },
  "language_info": {
   "codemirror_mode": {
    "name": "ipython",
    "version": 3
   },
   "file_extension": ".py",
   "mimetype": "text/x-python",
   "name": "python",
   "nbconvert_exporter": "python",
   "pygments_lexer": "ipython3",
   "version": "3.8.10"
  },
  "orig_nbformat": 4
 },
 "nbformat": 4,
 "nbformat_minor": 2
}
